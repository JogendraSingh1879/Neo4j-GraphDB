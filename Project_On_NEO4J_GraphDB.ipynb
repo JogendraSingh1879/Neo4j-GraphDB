{
  "nbformat": 4,
  "nbformat_minor": 0,
  "metadata": {
    "colab": {
      "provenance": []
    },
    "kernelspec": {
      "name": "python3",
      "display_name": "Python 3"
    },
    "language_info": {
      "name": "python"
    }
  },
  "cells": [
    {
      "cell_type": "markdown",
      "source": [
        "## About Neo4j GraphDB\n",
        "\n",
        "**Neo4j** is a leading graph database platform that leverages graph theory to model data as nodes, relationships, and properties, making it ideal for handling highly interconnected datasets. Unlike traditional databases, Neo4j excels in scenarios where relationships between data points are as critical as the data itself, such as social networks, fraud detection, recommendation systems, and knowledge graphs. It uses Cypher, an intuitive query language, and offers a schema-optional design, enabling dynamic data modeling and flexibility.\n",
        "\n",
        "**Key highlights** include powerful visualization tools, exceptional performance for complex queries, and integration with data science frameworks for advanced analytics and machine learning. Neo4j supports scalability, robust security, and ACID transactions, making it suitable for enterprise applications. Its versatility and focus on relationships unlock new possibilities for insights in various industries, from finance to supply chain management."
      ],
      "metadata": {
        "id": "7G8QiN778hhA"
      }
    },
    {
      "cell_type": "code",
      "source": [
        "# Install Important Libraries\n",
        "!pip install --upgrade --quiet  langchain langchain-community langchain-groq neo4j"
      ],
      "metadata": {
        "id": "Qgg7nHPJjYzn"
      },
      "execution_count": 34,
      "outputs": []
    },
    {
      "cell_type": "code",
      "source": [
        "# Graph DB Configuration\n",
        "\n",
        "NEO4J_URI=\"neo4j+s://359e5ef2.databases.neo4j.io\"\n",
        "NEO4J_USERNAME=\"neo4j\"\n",
        "NEO4J_PASSWORD=\"1X4TrI_NVLEdUyqcwnLncviEsD6YByP4tpqGq72YfV8\" # Use your own Noe4j Password from Neo4j Aura DB\n"
      ],
      "metadata": {
        "id": "qMLWP7mRjY2x"
      },
      "execution_count": 35,
      "outputs": []
    },
    {
      "cell_type": "code",
      "source": [
        "import os\n",
        "os.environ[\"NEO4J_URI\"]=NEO4J_URI\n",
        "os.environ[\"NEO4J_USERNAME\"]=NEO4J_USERNAME\n",
        "os.environ[\"NEO4J_PASSWORD\"]=NEO4J_PASSWORD"
      ],
      "metadata": {
        "id": "uSH8EFy2jY6J"
      },
      "execution_count": 36,
      "outputs": []
    },
    {
      "cell_type": "code",
      "source": [
        "from langchain_community.graphs import Neo4jGraph\n",
        "graph=Neo4jGraph(\n",
        "    url=NEO4J_URI,\n",
        "    username=NEO4J_USERNAME,\n",
        "    password=NEO4J_PASSWORD,\n",
        ")"
      ],
      "metadata": {
        "id": "RD-CC7IrjY9h"
      },
      "execution_count": 37,
      "outputs": []
    },
    {
      "cell_type": "code",
      "source": [
        "graph"
      ],
      "metadata": {
        "colab": {
          "base_uri": "https://localhost:8080/"
        },
        "id": "09GwG8cwkXyt",
        "outputId": "08beda1b-9ee7-4ab5-c1df-a5608c7f40b0"
      },
      "execution_count": 38,
      "outputs": [
        {
          "output_type": "execute_result",
          "data": {
            "text/plain": [
              "<langchain_community.graphs.neo4j_graph.Neo4jGraph at 0x795ee897d7b0>"
            ]
          },
          "metadata": {},
          "execution_count": 38
        }
      ]
    },
    {
      "cell_type": "code",
      "source": [
        "groq_api_key=\"Paste Your API Key\""
      ],
      "metadata": {
        "id": "gVihGq29kb_8"
      },
      "execution_count": 39,
      "outputs": []
    },
    {
      "cell_type": "code",
      "source": [
        "from langchain_groq import ChatGroq\n",
        "\n",
        "llm=ChatGroq(groq_api_key=groq_api_key,model_name=\"Gemma2-9b-It\")\n",
        "llm"
      ],
      "metadata": {
        "colab": {
          "base_uri": "https://localhost:8080/"
        },
        "id": "ivj9Jv9Mkpj-",
        "outputId": "20e18e9a-4301-47dd-e75e-31e9883e8ee0"
      },
      "execution_count": 40,
      "outputs": [
        {
          "output_type": "execute_result",
          "data": {
            "text/plain": [
              "ChatGroq(client=<groq.resources.chat.completions.Completions object at 0x795ee898fdf0>, async_client=<groq.resources.chat.completions.AsyncCompletions object at 0x795ee898e9b0>, model_name='Gemma2-9b-It', model_kwargs={}, groq_api_key=SecretStr('**********'))"
            ]
          },
          "metadata": {},
          "execution_count": 40
        }
      ]
    },
    {
      "cell_type": "code",
      "source": [
        "from langchain_core.documents import Document\n",
        "text=\"\"\"In a small village called Rameswaram, nestled on the southern tip of India,\n",
        "a young boy named Avul Pakir Jainulabdeen Abdul Kalam sat on the shores of the vast sea.\n",
        "The waves crashed against the rocks, and the salty breeze played with his unruly hair.\n",
        "He gazed at the sky, where birds soared freely, and his heart swelled with dreams as vast as the ocean.\n",
        "Kalam’s family wasn’t wealthy, but they were rich in values. His father, a humble boat owner,\n",
        "taught him the importance of honesty and hard work, while his mother’s kindness and compassion inspired him to serve others.\n",
        "Though life was modest, young Kalam was an exceptional student, often finishing his lessons under the dim light of an oil lamp.\n",
        "One day, while flying a kite with his friends, Kalam looked up and said, “One day, I will build something that will soar higher than this kite.”\n",
        "His friends laughed, but there was determination in his eyes. “Mark my words,” he whispered to himself.\n",
        "Years passed, and Kalam’s fascination with flight grew. He pursued his education in physics and later in aerospace engineering.\n",
        " Despite financial challenges, his unyielding dedication earned him a scholarship,\n",
        " and he joined the prestigious Defense Research and Development Organization (DRDO) and later the Indian Space Research Organisation (ISRO).\n",
        " \"\"\"\n",
        "\n",
        "documents=[Document(page_content=text)]\n",
        "documents"
      ],
      "metadata": {
        "colab": {
          "base_uri": "https://localhost:8080/"
        },
        "id": "Ice1OR49lDbj",
        "outputId": "bc10199f-be2e-4631-db37-2686498c7769"
      },
      "execution_count": 41,
      "outputs": [
        {
          "output_type": "execute_result",
          "data": {
            "text/plain": [
              "[Document(metadata={}, page_content='In a small village called Rameswaram, nestled on the southern tip of India,\\na young boy named Avul Pakir Jainulabdeen Abdul Kalam sat on the shores of the vast sea. \\nThe waves crashed against the rocks, and the salty breeze played with his unruly hair. \\nHe gazed at the sky, where birds soared freely, and his heart swelled with dreams as vast as the ocean.\\nKalam’s family wasn’t wealthy, but they were rich in values. His father, a humble boat owner, \\ntaught him the importance of honesty and hard work, while his mother’s kindness and compassion inspired him to serve others.\\nThough life was modest, young Kalam was an exceptional student, often finishing his lessons under the dim light of an oil lamp.\\nOne day, while flying a kite with his friends, Kalam looked up and said, “One day, I will build something that will soar higher than this kite.”\\nHis friends laughed, but there was determination in his eyes. “Mark my words,” he whispered to himself.\\nYears passed, and Kalam’s fascination with flight grew. He pursued his education in physics and later in aerospace engineering.\\n Despite financial challenges, his unyielding dedication earned him a scholarship, \\n and he joined the prestigious Defense Research and Development Organization (DRDO) and later the Indian Space Research Organisation (ISRO).\\n ')]"
            ]
          },
          "metadata": {},
          "execution_count": 41
        }
      ]
    },
    {
      "cell_type": "code",
      "source": [
        "!pip install --upgrade --quiet langchain_experimental"
      ],
      "metadata": {
        "id": "7cmdHqe9mu-w"
      },
      "execution_count": 42,
      "outputs": []
    },
    {
      "cell_type": "code",
      "source": [
        "from langchain_experimental.graph_transformers import LLMGraphTransformer\n",
        "llm_transformer=LLMGraphTransformer(llm=llm)"
      ],
      "metadata": {
        "id": "KAHFrEAYm3Lg"
      },
      "execution_count": 43,
      "outputs": []
    },
    {
      "cell_type": "code",
      "source": [
        "graph_documents=llm_transformer.convert_to_graph_documents(documents)"
      ],
      "metadata": {
        "id": "D3rgwxAFnPEw"
      },
      "execution_count": 44,
      "outputs": []
    },
    {
      "cell_type": "code",
      "source": [
        "graph_documents"
      ],
      "metadata": {
        "colab": {
          "base_uri": "https://localhost:8080/"
        },
        "id": "jhxkmCGjnanB",
        "outputId": "d3ac5d88-6009-4897-bdbe-9409322bd56d"
      },
      "execution_count": 46,
      "outputs": [
        {
          "output_type": "execute_result",
          "data": {
            "text/plain": [
              "[GraphDocument(nodes=[Node(id='Avul Pakir Jainulabdeen Abdul Kalam', type='Person', properties={}), Node(id='Rameswaram', type='Location', properties={}), Node(id='India', type='Location', properties={}), Node(id=\"Kalam'S Father\", type='Person', properties={}), Node(id=\"Kalam'S Mother\", type='Person', properties={}), Node(id='Defense Research And Development Organization (Drdo)', type='Organization', properties={}), Node(id='Indian Space Research Organisation (Isro)', type='Organization', properties={})], relationships=[Relationship(source=Node(id='Avul Pakir Jainulabdeen Abdul Kalam', type='Person', properties={}), target=Node(id='Rameswaram', type='Location', properties={}), type='LIVES_IN', properties={}), Relationship(source=Node(id='Rameswaram', type='Location', properties={}), target=Node(id='India', type='Location', properties={}), type='IN_COUNTRY', properties={}), Relationship(source=Node(id='Avul Pakir Jainulabdeen Abdul Kalam', type='Person', properties={}), target=Node(id=\"Kalam'S Father\", type='Person', properties={}), type='CHILD_OF', properties={}), Relationship(source=Node(id='Avul Pakir Jainulabdeen Abdul Kalam', type='Person', properties={}), target=Node(id=\"Kalam'S Mother\", type='Person', properties={}), type='CHILD_OF', properties={}), Relationship(source=Node(id='Avul Pakir Jainulabdeen Abdul Kalam', type='Person', properties={}), target=Node(id='Defense Research And Development Organization (Drdo)', type='Organization', properties={}), type='WORKED_AT', properties={}), Relationship(source=Node(id='Avul Pakir Jainulabdeen Abdul Kalam', type='Person', properties={}), target=Node(id='Indian Space Research Organisation (Isro)', type='Organization', properties={}), type='WORKED_AT', properties={})], source=Document(metadata={}, page_content='In a small village called Rameswaram, nestled on the southern tip of India,\\na young boy named Avul Pakir Jainulabdeen Abdul Kalam sat on the shores of the vast sea. \\nThe waves crashed against the rocks, and the salty breeze played with his unruly hair. \\nHe gazed at the sky, where birds soared freely, and his heart swelled with dreams as vast as the ocean.\\nKalam’s family wasn’t wealthy, but they were rich in values. His father, a humble boat owner, \\ntaught him the importance of honesty and hard work, while his mother’s kindness and compassion inspired him to serve others.\\nThough life was modest, young Kalam was an exceptional student, often finishing his lessons under the dim light of an oil lamp.\\nOne day, while flying a kite with his friends, Kalam looked up and said, “One day, I will build something that will soar higher than this kite.”\\nHis friends laughed, but there was determination in his eyes. “Mark my words,” he whispered to himself.\\nYears passed, and Kalam’s fascination with flight grew. He pursued his education in physics and later in aerospace engineering.\\n Despite financial challenges, his unyielding dedication earned him a scholarship, \\n and he joined the prestigious Defense Research and Development Organization (DRDO) and later the Indian Space Research Organisation (ISRO).\\n '))]"
            ]
          },
          "metadata": {},
          "execution_count": 46
        }
      ]
    },
    {
      "cell_type": "code",
      "source": [
        "graph_documents[0].nodes"
      ],
      "metadata": {
        "colab": {
          "base_uri": "https://localhost:8080/"
        },
        "id": "XmrDeC2Wni9v",
        "outputId": "88edda1d-1f1f-47f4-cd75-cede73ecf701"
      },
      "execution_count": 47,
      "outputs": [
        {
          "output_type": "execute_result",
          "data": {
            "text/plain": [
              "[Node(id='Avul Pakir Jainulabdeen Abdul Kalam', type='Person', properties={}),\n",
              " Node(id='Rameswaram', type='Location', properties={}),\n",
              " Node(id='India', type='Location', properties={}),\n",
              " Node(id=\"Kalam'S Father\", type='Person', properties={}),\n",
              " Node(id=\"Kalam'S Mother\", type='Person', properties={}),\n",
              " Node(id='Defense Research And Development Organization (Drdo)', type='Organization', properties={}),\n",
              " Node(id='Indian Space Research Organisation (Isro)', type='Organization', properties={})]"
            ]
          },
          "metadata": {},
          "execution_count": 47
        }
      ]
    },
    {
      "cell_type": "code",
      "source": [
        "graph_documents[0].relationships"
      ],
      "metadata": {
        "colab": {
          "base_uri": "https://localhost:8080/"
        },
        "id": "c7ktXdhfnx-L",
        "outputId": "2d3427e1-f8ad-4d37-e7ae-d7d948ee8033"
      },
      "execution_count": 48,
      "outputs": [
        {
          "output_type": "execute_result",
          "data": {
            "text/plain": [
              "[Relationship(source=Node(id='Avul Pakir Jainulabdeen Abdul Kalam', type='Person', properties={}), target=Node(id='Rameswaram', type='Location', properties={}), type='LIVES_IN', properties={}),\n",
              " Relationship(source=Node(id='Rameswaram', type='Location', properties={}), target=Node(id='India', type='Location', properties={}), type='IN_COUNTRY', properties={}),\n",
              " Relationship(source=Node(id='Avul Pakir Jainulabdeen Abdul Kalam', type='Person', properties={}), target=Node(id=\"Kalam'S Father\", type='Person', properties={}), type='CHILD_OF', properties={}),\n",
              " Relationship(source=Node(id='Avul Pakir Jainulabdeen Abdul Kalam', type='Person', properties={}), target=Node(id=\"Kalam'S Mother\", type='Person', properties={}), type='CHILD_OF', properties={}),\n",
              " Relationship(source=Node(id='Avul Pakir Jainulabdeen Abdul Kalam', type='Person', properties={}), target=Node(id='Defense Research And Development Organization (Drdo)', type='Organization', properties={}), type='WORKED_AT', properties={}),\n",
              " Relationship(source=Node(id='Avul Pakir Jainulabdeen Abdul Kalam', type='Person', properties={}), target=Node(id='Indian Space Research Organisation (Isro)', type='Organization', properties={}), type='WORKED_AT', properties={})]"
            ]
          },
          "metadata": {},
          "execution_count": 48
        }
      ]
    },
    {
      "cell_type": "code",
      "source": [
        "### Load the dataset of movie\n",
        "\n",
        "movie_query=\"\"\"\n",
        "LOAD CSV WITH HEADERS FROM\n",
        "'https://raw.githubusercontent.com/tomasonjo/blog-datasets/main/movies/movies_small.csv' as row\n",
        "\n",
        "MERGE(m:Movie{id:row.movieId})\n",
        "SET m.released = date(row.released),\n",
        "    m.title = row.title,\n",
        "    m.imdbRating = toFloat(row.imdbRating)\n",
        "FOREACH (director in split(row.director, '|') |\n",
        "    MERGE (p:Person {name:trim(director)})\n",
        "    MERGE (p)-[:DIRECTED]->(m))\n",
        "FOREACH (actor in split(row.actors, '|') |\n",
        "    MERGE (p:Person {name:trim(actor)})\n",
        "    MERGE (p)-[:ACTED_IN]->(m))\n",
        "FOREACH (genre in split(row.genres, '|') |\n",
        "    MERGE (g:Genre {name:trim(genre)})\n",
        "    MERGE (m)-[:IN_GENRE]->(g))\n",
        "\"\"\""
      ],
      "metadata": {
        "id": "7wWHgwKd3qTb"
      },
      "execution_count": 49,
      "outputs": []
    },
    {
      "cell_type": "code",
      "source": [
        "graph"
      ],
      "metadata": {
        "colab": {
          "base_uri": "https://localhost:8080/"
        },
        "id": "_KrUIOYI3xaZ",
        "outputId": "403c1cf5-2c40-43ed-f77d-040ea2f136b4"
      },
      "execution_count": 50,
      "outputs": [
        {
          "output_type": "execute_result",
          "data": {
            "text/plain": [
              "<langchain_community.graphs.neo4j_graph.Neo4jGraph at 0x795ee897d7b0>"
            ]
          },
          "metadata": {},
          "execution_count": 50
        }
      ]
    },
    {
      "cell_type": "code",
      "source": [
        "graph.query(movie_query)"
      ],
      "metadata": {
        "colab": {
          "base_uri": "https://localhost:8080/"
        },
        "id": "QzfmlpNf33l-",
        "outputId": "7e2dee98-83d4-43ef-ef58-202235ece136"
      },
      "execution_count": 51,
      "outputs": [
        {
          "output_type": "execute_result",
          "data": {
            "text/plain": [
              "[]"
            ]
          },
          "metadata": {},
          "execution_count": 51
        }
      ]
    },
    {
      "cell_type": "code",
      "source": [
        "graph.refresh_schema()\n",
        "print(graph.schema)"
      ],
      "metadata": {
        "colab": {
          "base_uri": "https://localhost:8080/"
        },
        "id": "bLPSokbS4Bb8",
        "outputId": "af22e2ec-eff0-4465-bdea-53562e0826c0"
      },
      "execution_count": 52,
      "outputs": [
        {
          "output_type": "stream",
          "name": "stdout",
          "text": [
            "Node properties:\n",
            "Document {fileName: STRING, fileSize: INTEGER, fileType: STRING, status: STRING, url: STRING, fileSource: STRING, createdAt: LOCAL_DATE_TIME, updatedAt: LOCAL_DATE_TIME, processingTime: FLOAT, errorMessage: STRING, nodeCount: INTEGER, relationshipCount: INTEGER, model: STRING, language: STRING, is_cancelled: BOOLEAN, total_chunks: INTEGER, processed_chunk: INTEGER, chunkNodeCount: INTEGER, chunkRelCount: INTEGER, entityNodeCount: INTEGER, entityEntityRelCount: INTEGER, communityNodeCount: INTEGER, communityRelCount: INTEGER}\n",
            "Chunk {fileName: STRING, id: STRING, text: STRING, position: INTEGER, length: INTEGER, content_offset: INTEGER, embedding: LIST}\n",
            "Movie {id: STRING, released: DATE, title: STRING, imdbRating: FLOAT}\n",
            "Person {name: STRING}\n",
            "Genre {name: STRING}\n",
            "Relationship properties:\n",
            "\n",
            "The relationships:\n",
            "(:Document)-[:FIRST_CHUNK]->(:Chunk)\n",
            "(:Chunk)-[:PART_OF]->(:Document)\n",
            "(:Movie)-[:IN_GENRE]->(:Genre)\n",
            "(:Person)-[:DIRECTED]->(:Movie)\n",
            "(:Person)-[:ACTED_IN]->(:Movie)\n"
          ]
        }
      ]
    },
    {
      "cell_type": "code",
      "source": [
        "from langchain.chains import GraphCypherQAChain\n",
        "chain=GraphCypherQAChain.from_llm(\n",
        "    llm=llm,\n",
        "    graph=graph,\n",
        "    verbose=True,\n",
        "    allow_dangerous_requests=True\n",
        "    )\n",
        "chain"
      ],
      "metadata": {
        "colab": {
          "base_uri": "https://localhost:8080/"
        },
        "id": "NpuYAygh4KwC",
        "outputId": "7a88317e-6aac-486f-b307-276a309b98b8"
      },
      "execution_count": 54,
      "outputs": [
        {
          "output_type": "execute_result",
          "data": {
            "text/plain": [
              "GraphCypherQAChain(verbose=True, graph=<langchain_community.graphs.neo4j_graph.Neo4jGraph object at 0x795ee897d7b0>, cypher_generation_chain=LLMChain(verbose=False, prompt=PromptTemplate(input_variables=['question', 'schema'], input_types={}, partial_variables={}, template='Task:Generate Cypher statement to query a graph database.\\nInstructions:\\nUse only the provided relationship types and properties in the schema.\\nDo not use any other relationship types or properties that are not provided.\\nSchema:\\n{schema}\\nNote: Do not include any explanations or apologies in your responses.\\nDo not respond to any questions that might ask anything else than for you to construct a Cypher statement.\\nDo not include any text except the generated Cypher statement.\\n\\nThe question is:\\n{question}'), llm=ChatGroq(client=<groq.resources.chat.completions.Completions object at 0x795ee898fdf0>, async_client=<groq.resources.chat.completions.AsyncCompletions object at 0x795ee898e9b0>, model_name='Gemma2-9b-It', model_kwargs={}, groq_api_key=SecretStr('**********')), output_parser=StrOutputParser(), llm_kwargs={}), qa_chain=LLMChain(verbose=False, prompt=PromptTemplate(input_variables=['context', 'question'], input_types={}, partial_variables={}, template=\"You are an assistant that helps to form nice and human understandable answers.\\nThe information part contains the provided information that you must use to construct an answer.\\nThe provided information is authoritative, you must never doubt it or try to use your internal knowledge to correct it.\\nMake the answer sound as a response to the question. Do not mention that you based the result on the given information.\\nHere is an example:\\n\\nQuestion: Which managers own Neo4j stocks?\\nContext:[manager:CTL LLC, manager:JANE STREET GROUP LLC]\\nHelpful Answer: CTL LLC, JANE STREET GROUP LLC owns Neo4j stocks.\\n\\nFollow this example when generating answers.\\nIf the provided information is empty, say that you don't know the answer.\\nInformation:\\n{context}\\n\\nQuestion: {question}\\nHelpful Answer:\"), llm=ChatGroq(client=<groq.resources.chat.completions.Completions object at 0x795ee898fdf0>, async_client=<groq.resources.chat.completions.AsyncCompletions object at 0x795ee898e9b0>, model_name='Gemma2-9b-It', model_kwargs={}, groq_api_key=SecretStr('**********')), output_parser=StrOutputParser(), llm_kwargs={}), graph_schema='Node properties are the following:\\nDocument {fileName: STRING, fileSize: INTEGER, fileType: STRING, status: STRING, url: STRING, fileSource: STRING, createdAt: LOCAL_DATE_TIME, updatedAt: LOCAL_DATE_TIME, processingTime: FLOAT, errorMessage: STRING, nodeCount: INTEGER, relationshipCount: INTEGER, model: STRING, language: STRING, is_cancelled: BOOLEAN, total_chunks: INTEGER, processed_chunk: INTEGER, chunkNodeCount: INTEGER, chunkRelCount: INTEGER, entityNodeCount: INTEGER, entityEntityRelCount: INTEGER, communityNodeCount: INTEGER, communityRelCount: INTEGER},Chunk {fileName: STRING, id: STRING, text: STRING, position: INTEGER, length: INTEGER, content_offset: INTEGER, embedding: LIST},Movie {id: STRING, released: DATE, title: STRING, imdbRating: FLOAT},Person {name: STRING},Genre {name: STRING}\\nRelationship properties are the following:\\n\\nThe relationships are the following:\\n(:Document)-[:FIRST_CHUNK]->(:Chunk),(:Chunk)-[:PART_OF]->(:Document),(:Movie)-[:IN_GENRE]->(:Genre),(:Person)-[:DIRECTED]->(:Movie),(:Person)-[:ACTED_IN]->(:Movie)', allow_dangerous_requests=True)"
            ]
          },
          "metadata": {},
          "execution_count": 54
        }
      ]
    },
    {
      "cell_type": "code",
      "source": [
        "response=chain.invoke({\"query\":\"Who was the director of the moview GoldenEye\"})\n",
        "\n",
        "response"
      ],
      "metadata": {
        "colab": {
          "base_uri": "https://localhost:8080/"
        },
        "id": "ahZjemFJ6Nva",
        "outputId": "ed06de36-8efe-44d6-817d-5dc2b970ba7e"
      },
      "execution_count": 55,
      "outputs": [
        {
          "output_type": "stream",
          "name": "stdout",
          "text": [
            "\n",
            "\n",
            "\u001b[1m> Entering new GraphCypherQAChain chain...\u001b[0m\n",
            "Generated Cypher:\n",
            "\u001b[32;1m\u001b[1;3mMATCH (m:Movie {title: \"GoldenEye\"})<-[:DIRECTED]-(p:Person) RETURN p.name  \n",
            "\u001b[0m\n",
            "Full Context:\n",
            "\u001b[32;1m\u001b[1;3m[{'p.name': 'Martin Campbell'}]\u001b[0m\n",
            "\n",
            "\u001b[1m> Finished chain.\u001b[0m\n"
          ]
        },
        {
          "output_type": "execute_result",
          "data": {
            "text/plain": [
              "{'query': 'Who was the director of the moview GoldenEye',\n",
              " 'result': 'Martin Campbell  \\n'}"
            ]
          },
          "metadata": {},
          "execution_count": 55
        }
      ]
    },
    {
      "cell_type": "code",
      "source": [
        "response=chain.invoke({\"query\":\"tell me the genre of the movie GoldenEye\"})\n",
        "\n",
        "response"
      ],
      "metadata": {
        "colab": {
          "base_uri": "https://localhost:8080/"
        },
        "id": "nLm2lP8W6ZEa",
        "outputId": "fa76a959-2806-4e32-c16f-284dc4d89aee"
      },
      "execution_count": 67,
      "outputs": [
        {
          "output_type": "stream",
          "name": "stdout",
          "text": [
            "\n",
            "\n",
            "\u001b[1m> Entering new GraphCypherQAChain chain...\u001b[0m\n",
            "Generated Cypher:\n",
            "\u001b[32;1m\u001b[1;3mMATCH (m:Movie {title: \"GoldenEye\"})-[:IN_GENRE]->(g:Genre) RETURN g.name\n",
            "\u001b[0m\n",
            "Full Context:\n",
            "\u001b[32;1m\u001b[1;3m[{'g.name': 'Adventure'}, {'g.name': 'Action'}, {'g.name': 'Thriller'}]\u001b[0m\n",
            "\n",
            "\u001b[1m> Finished chain.\u001b[0m\n"
          ]
        },
        {
          "output_type": "execute_result",
          "data": {
            "text/plain": [
              "{'query': 'tell me the genre of the movie GoldenEye', 'result': 'Action \\n'}"
            ]
          },
          "metadata": {},
          "execution_count": 67
        }
      ]
    },
    {
      "cell_type": "code",
      "source": [
        "response=chain.invoke({\"query\":\"Who was the director and actors in movie Casino\"})\n",
        "\n",
        "response"
      ],
      "metadata": {
        "colab": {
          "base_uri": "https://localhost:8080/"
        },
        "id": "tIXKv6Kg6g4q",
        "outputId": "9d6a193c-7dd7-4750-bc83-8de7ea610a97"
      },
      "execution_count": 64,
      "outputs": [
        {
          "output_type": "stream",
          "name": "stdout",
          "text": [
            "\n",
            "\n",
            "\u001b[1m> Entering new GraphCypherQAChain chain...\u001b[0m\n",
            "Generated Cypher:\n",
            "\u001b[32;1m\u001b[1;3mMATCH (m:Movie {title:\"Casino\"})<-[:DIRECTED]-(p:Person)\n",
            "MATCH (m:Movie {title:\"Casino\"})-[:ACTED_IN]->(a:Person)\n",
            "RETURN p.name AS director, a.name AS actors\u001b[0m\n",
            "Full Context:\n",
            "\u001b[32;1m\u001b[1;3m[]\u001b[0m\n",
            "\n",
            "\u001b[1m> Finished chain.\u001b[0m\n"
          ]
        },
        {
          "output_type": "execute_result",
          "data": {
            "text/plain": [
              "{'query': 'Who was the director and actors in movie Casino',\n",
              " 'result': \"I don't know the answer. \\n\"}"
            ]
          },
          "metadata": {},
          "execution_count": 64
        }
      ]
    },
    {
      "cell_type": "code",
      "source": [
        "response=chain.invoke({\"query\":\"Which movie were released in 2010\"})\n",
        "\n",
        "response"
      ],
      "metadata": {
        "colab": {
          "base_uri": "https://localhost:8080/"
        },
        "id": "9flFRQyi6oMr",
        "outputId": "dacd1f71-f510-45a8-f839-b8ff18c6425e"
      },
      "execution_count": 65,
      "outputs": [
        {
          "output_type": "stream",
          "name": "stdout",
          "text": [
            "\n",
            "\n",
            "\u001b[1m> Entering new GraphCypherQAChain chain...\u001b[0m\n",
            "Generated Cypher:\n",
            "\u001b[32;1m\u001b[1;3mMATCH (m:Movie) WHERE m.released = '2010-01-01' RETURN m.title\n",
            "\u001b[0m\n",
            "Full Context:\n",
            "\u001b[32;1m\u001b[1;3m[]\u001b[0m\n",
            "\n",
            "\u001b[1m> Finished chain.\u001b[0m\n"
          ]
        },
        {
          "output_type": "execute_result",
          "data": {
            "text/plain": [
              "{'query': 'Which movie were released in 2010',\n",
              " 'result': \"I don't know the answer. \\n\"}"
            ]
          },
          "metadata": {},
          "execution_count": 65
        }
      ]
    },
    {
      "cell_type": "code",
      "source": [
        "response=chain.invoke({\"query\":\"Give me the list of movie having imdb rating more than 8\"})\n",
        "response"
      ],
      "metadata": {
        "colab": {
          "base_uri": "https://localhost:8080/"
        },
        "id": "gaD7Bbr-62jv",
        "outputId": "f8517e9a-d67c-43e2-ccc4-33291c97c538"
      },
      "execution_count": 62,
      "outputs": [
        {
          "output_type": "stream",
          "name": "stdout",
          "text": [
            "\n",
            "\n",
            "\u001b[1m> Entering new GraphCypherQAChain chain...\u001b[0m\n",
            "Generated Cypher:\n",
            "\u001b[32;1m\u001b[1;3mMATCH (m:Movie) WHERE m.imdbRating > 8 RETURN m.title\u001b[0m\n",
            "Full Context:\n",
            "\u001b[32;1m\u001b[1;3m[{'m.title': 'Toy Story'}, {'m.title': 'Heat'}, {'m.title': 'Casino'}, {'m.title': 'Twelve Monkeys (a.k.a. 12 Monkeys)'}, {'m.title': 'Seven (a.k.a. Se7en)'}, {'m.title': 'Usual Suspects, The'}, {'m.title': 'Hate (Haine, La)'}, {'m.title': 'Braveheart'}, {'m.title': 'Taxi Driver'}, {'m.title': 'Anne Frank Remembered'}]\u001b[0m\n",
            "\n",
            "\u001b[1m> Finished chain.\u001b[0m\n"
          ]
        },
        {
          "output_type": "execute_result",
          "data": {
            "text/plain": [
              "{'query': 'Give me the list of movie having imdb rating more than 8',\n",
              " 'result': \"I don't know the answer. \\n\"}"
            ]
          },
          "metadata": {},
          "execution_count": 62
        }
      ]
    }
  ]
}